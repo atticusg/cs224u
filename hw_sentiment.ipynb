{
 "cells": [
  {
   "cell_type": "markdown",
   "metadata": {},
   "source": [
    "# Homework and bake-off: Sentiment analysis"
   ]
  },
  {
   "cell_type": "code",
   "execution_count": 1,
   "metadata": {},
   "outputs": [],
   "source": [
    "__author__ = \"Christopher Potts\"\n",
    "__version__ = \"CS224u, Stanford, Spring 2021\""
   ]
  },
  {
   "cell_type": "markdown",
   "metadata": {},
   "source": [
    "## Contents\n",
    "\n",
    "1. [Overview](#Overview)\n",
    "1. [Methodological note](#Methodological-note)\n",
    "1. [Set-up](#Set-up)\n",
    "1. [Train set](#Train-set)\n",
    "1. [Dev sets](#Dev-sets)\n",
    "1. [A softmax baseline](#A-softmax-baseline)\n",
    "1. [RNNClassifier wrapper](#RNNClassifier-wrapper)\n",
    "1. [Error analysis](#Error-analysis)\n",
    "1. [Homework questions](#Homework-questions)\n",
    "  1. [Token-level differences [1 point]](#Token-level-differences-[1-point])\n",
    "  1. [Training on some of the bakeoff data [1 point]](#Training-on-some-of-the-bakeoff-data-[1-point])\n",
    "  1. [A more powerful vector-averaging baseline [2 points]](#A-more-powerful-vector-averaging-baseline-[2-points])\n",
    "  1. [BERT encoding [2 points]](#BERT-encoding-[2-points])\n",
    "  1. [Your original system [3 points]](#Your-original-system-[3-points])\n",
    "1. [Bakeoff [1 point]](#Bakeoff-[1-point])\n",
    "1. [Submission Instruction](#Submission-Instruction)"
   ]
  },
  {
   "cell_type": "markdown",
   "metadata": {},
   "source": [
    "## Overview\n",
    "\n",
    "This homework and associated bakeoff are devoted to supervised sentiment analysis using the ternary (positive/negative/neutral) version of the Stanford Sentiment Treebank (SST-3) as well as a new dev/test dataset drawn from restaurant reviews. Our goal in introducing the new dataset is to push you to create a system that performs well in both the movie and restaurant domains.\n",
    "\n",
    "The homework questions ask you to implement some baseline system, and the bakeoff challenge is to define a system that does well at both the SST-3 test set and the new restaurant test set. Both are ternary tasks, and our central bakeoff score is the mean of the macro-FI scores for the two datasets. This assigns equal weight to all classes and datasets regardless of size.\n",
    "\n",
    "The SST-3 test set will be used for the bakeoff evaluation. This dataset is already publicly distributed, so we are counting on people not to cheat by developing their models on the test set. You must do all your development without using the test set at all, and then evaluate exactly once on the test set and turn in the results, with no further system tuning or additional runs. __Much of the scientific integrity of our field depends on people adhering to this honor code__. \n",
    "\n",
    "One of our goals for this homework and bakeoff is to encourage you to engage in __the basic development cycle for supervised models__, in which you\n",
    "\n",
    "1. Design a new system. We recommend starting with something simple.\n",
    "1. Use `sst.experiment` to evaluate your system, using random train/test splits initially.\n",
    "1. If you have time, compare your system with others using `sst.compare_models` or `utils.mcnemar`. (For discussion, see [this notebook section](sst_02_hand_built_features.ipynb#Statistical-comparison-of-classifier-models).)\n",
    "1. Return to step 1, or stop the cycle and conduct a more rigorous evaluation with hyperparameter tuning and assessment on the `dev` set.\n",
    "\n",
    "[Error analysis](#Error-analysis) is one of the most important methods for steadily improving a system, as it facilitates a kind of human-powered hill-climbing on your ultimate objective. Often, it takes a careful human analyst just a few examples to spot a major pattern that can lead to a beneficial change to the feature representations."
   ]
  },
  {
   "cell_type": "markdown",
   "metadata": {},
   "source": [
    "## Methodological note\n",
    "\n",
    "You don't have to use the experimental framework defined below (based on `sst`). The only constraint we need to place on your system is that it must have a `predict_one` method that can map directly from an example text to a prediction, and it must be able to make predictions without having any information beyond the text. (For example, it can't depend on knowing which task the text comes from.) See [the bakeoff section below](#Bakeoff-[1-point]) for examples of functions that conform to this specification."
   ]
  },
  {
   "cell_type": "markdown",
   "metadata": {},
   "source": [
    "## Set-up\n",
    "\n",
    "See [the first notebook in this unit](sst_01_overview.ipynb#Set-up) for set-up instructions."
   ]
  },
  {
   "cell_type": "code",
   "execution_count": 2,
   "metadata": {},
   "outputs": [],
   "source": [
    "from collections import Counter\n",
    "import random\n",
    "import numpy as np\n",
    "import os\n",
    "import pandas as pd\n",
    "from sklearn.linear_model import LogisticRegression\n",
    "from sklearn.feature_extraction import DictVectorizer\n",
    "import torch\n",
    "import torch.nn as nn\n",
    "from torch_rnn_classifier import TorchRNNClassifier\n",
    "from torch_tree_nn import TorchTreeNN\n",
    "import sst\n",
    "import sst_mod\n",
    "from sklearn.metrics import classification_report\n",
    "from iit import get_equality_dataset, get_IIT_equality_dataset, get_IIT_equality_dataset_both\n",
    "from torch_deep_neural_classifier_iit import TorchDeepNeuralClassifierIIT, TorchDeepNeuralClassifier\n",
    "from torch_rnn_classifier import TorchRNNClassifier\n",
    "import utils"
   ]
  },
  {
   "cell_type": "code",
   "execution_count": 3,
   "metadata": {},
   "outputs": [],
   "source": [
    "SST_HOME = os.path.join('data', 'sentiment')"
   ]
  },
  {
   "cell_type": "markdown",
   "metadata": {},
   "source": [
    "## Train set"
   ]
  },
  {
   "cell_type": "markdown",
   "metadata": {},
   "source": [
    "Our primary train set is the SST-3 train set:"
   ]
  },
  {
   "cell_type": "code",
   "execution_count": 4,
   "metadata": {},
   "outputs": [],
   "source": [
    "sst_train = sst.train_reader(SST_HOME)"
   ]
  },
  {
   "cell_type": "code",
   "execution_count": 5,
   "metadata": {},
   "outputs": [
    {
     "data": {
      "text/plain": [
       "8544"
      ]
     },
     "execution_count": 5,
     "metadata": {},
     "output_type": "execute_result"
    }
   ],
   "source": [
    "sst_train.shape[0]"
   ]
  },
  {
   "cell_type": "markdown",
   "metadata": {},
   "source": [
    "This is the train set we will use for all the regular homework questions. You are welcome to bring in new datasets for your original system. You are also free to add `include_subtrees=True`. This is very likely to lead to better systems, but it substantially increases the overall size of the dataset (from 8,544 examples to 159,274), which will in turn substantially increase the time it takes to run experiments.\n",
    "\n",
    "See [this notebook](sst_01_overview.ipynb) for additional details of this dataset."
   ]
  },
  {
   "cell_type": "markdown",
   "metadata": {},
   "source": [
    "## Dev sets"
   ]
  },
  {
   "cell_type": "markdown",
   "metadata": {},
   "source": [
    "We have two development set. SST3-dev consists of sentences from movie reviews, just like SST-3 train:"
   ]
  },
  {
   "cell_type": "code",
   "execution_count": 6,
   "metadata": {},
   "outputs": [],
   "source": [
    "sst_dev = sst.dev_reader(SST_HOME)"
   ]
  },
  {
   "cell_type": "markdown",
   "metadata": {},
   "source": [
    "Our new bakeoff dev set consists of sentences from restaurant reviews:"
   ]
  },
  {
   "cell_type": "code",
   "execution_count": 7,
   "metadata": {},
   "outputs": [],
   "source": [
    "bakeoff_dev = sst.bakeoff_dev_reader(SST_HOME)"
   ]
  },
  {
   "cell_type": "code",
   "execution_count": 8,
   "metadata": {},
   "outputs": [
    {
     "data": {
      "text/plain": [
       "[{'example_id': 57,\n",
       "  'sentence': 'I would recommend that you make reservations in advance.',\n",
       "  'label': 'neutral',\n",
       "  'is_subtree': 0},\n",
       " {'example_id': 590,\n",
       "  'sentence': 'We were welcomed warmly.',\n",
       "  'label': 'positive',\n",
       "  'is_subtree': 0},\n",
       " {'example_id': 1968,\n",
       "  'sentence': 'We have been to Oceanaire twice in the last 6 weeks.',\n",
       "  'label': 'neutral',\n",
       "  'is_subtree': 0}]"
      ]
     },
     "execution_count": 8,
     "metadata": {},
     "output_type": "execute_result"
    }
   ],
   "source": [
    "bakeoff_dev.sample(3, random_state=1).to_dict(orient='records')"
   ]
  },
  {
   "cell_type": "markdown",
   "metadata": {},
   "source": [
    "Here is the label distribution:"
   ]
  },
  {
   "cell_type": "code",
   "execution_count": 9,
   "metadata": {},
   "outputs": [
    {
     "data": {
      "text/plain": [
       "neutral     1019\n",
       "positive     777\n",
       "negative     565\n",
       "Name: label, dtype: int64"
      ]
     },
     "execution_count": 9,
     "metadata": {},
     "output_type": "execute_result"
    }
   ],
   "source": [
    "bakeoff_dev.label.value_counts()"
   ]
  },
  {
   "cell_type": "markdown",
   "metadata": {},
   "source": [
    "The label distribution for the corresponding test set is similar to this."
   ]
  },
  {
   "cell_type": "markdown",
   "metadata": {},
   "source": [
    "## A softmax baseline\n",
    "\n",
    "This example is here mainly as a reminder of how to use our experimental framework with linear models:"
   ]
  },
  {
   "cell_type": "code",
   "execution_count": 10,
   "metadata": {},
   "outputs": [],
   "source": [
    "def unigrams_phi(text):\n",
    "    return Counter(text.split())"
   ]
  },
  {
   "cell_type": "markdown",
   "metadata": {},
   "source": [
    "Thin wrapper around `LogisticRegression` for the sake of `sst.experiment`:"
   ]
  },
  {
   "cell_type": "code",
   "execution_count": 11,
   "metadata": {},
   "outputs": [],
   "source": [
    "def fit_softmax_classifier(X, y):\n",
    "    mod = LogisticRegression(\n",
    "        fit_intercept=True,\n",
    "        solver='liblinear',\n",
    "        multi_class='ovr')\n",
    "    mod.fit(X, y)\n",
    "    return mod"
   ]
  },
  {
   "cell_type": "markdown",
   "metadata": {},
   "source": [
    "The experimental run with some notes:"
   ]
  },
  {
   "cell_type": "code",
   "execution_count": 12,
   "metadata": {},
   "outputs": [
    {
     "name": "stdout",
     "output_type": "stream",
     "text": [
      "Assessment dataset 1\n",
      "              precision    recall  f1-score   support\n",
      "\n",
      "    negative      0.628     0.689     0.657       428\n",
      "     neutral      0.343     0.153     0.211       229\n",
      "    positive      0.629     0.750     0.684       444\n",
      "\n",
      "    accuracy                          0.602      1101\n",
      "   macro avg      0.533     0.531     0.518      1101\n",
      "weighted avg      0.569     0.602     0.575      1101\n",
      "\n",
      "Assessment dataset 2\n",
      "              precision    recall  f1-score   support\n",
      "\n",
      "    negative      0.272     0.692     0.391       565\n",
      "     neutral      0.429     0.113     0.179      1019\n",
      "    positive      0.409     0.346     0.375       777\n",
      "\n",
      "    accuracy                          0.328      2361\n",
      "   macro avg      0.370     0.384     0.315      2361\n",
      "weighted avg      0.385     0.328     0.294      2361\n",
      "\n",
      "Mean of macro-F1 scores: 0.416\n"
     ]
    }
   ],
   "source": [
    "softmax_experiment = sst.experiment(\n",
    "    sst.train_reader(SST_HOME),   # Train on any data you like except SST-3 test!\n",
    "    unigrams_phi,                 # Free to write your own!\n",
    "    fit_softmax_classifier,       # Free to write your own!\n",
    "    assess_dataframes=[sst_dev, bakeoff_dev]) # Free to change this during development!"
   ]
  },
  {
   "cell_type": "code",
   "execution_count": 13,
   "metadata": {},
   "outputs": [],
   "source": [
    "def one_hot(label):\n",
    "    sents = ['positive', 'neutral', 'negative']\n",
    "    return np.eye(len(sents))[sents.index(label)]\n",
    "\n",
    "def build_dataset_subtrees(dataframes, phi, vectorizer=None, vectorize=True):\n",
    "    if isinstance(dataframes, (list, tuple)):\n",
    "        df = pd.concat(dataframes)\n",
    "    else:\n",
    "        df = dataframes\n",
    "\n",
    "    raw_examples = list(df.sentence.values)\n",
    "\n",
    "    # feat_dicts = list(df.left_label.apply(phi).values)\n",
    "    left_labels = df.left_label.values\n",
    "    right_labels = df.right_label.values\n",
    "\n",
    "    feat_dicts = [np.concatenate((one_hot(left_labels[i]), one_hot(right_labels[i]))) for i in range(len(left_labels))]\n",
    "\n",
    "    if 'sentence_label' in df.columns:\n",
    "        labels = list(df.sentence_label.values)\n",
    "    else:\n",
    "        labels = None\n",
    "\n",
    "    feat_matrix = None\n",
    "    if vectorize:\n",
    "        # In training, we want a new vectorizer:\n",
    "        if vectorizer is None:\n",
    "            vectorizer = DictVectorizer(sparse=False)\n",
    "            feat_matrix = vectorizer.fit_transform(feat_dicts)\n",
    "        # In assessment, we featurize using the existing vectorizer:\n",
    "        else:\n",
    "            feat_matrix = vectorizer.transform(feat_dicts)\n",
    "    else:\n",
    "        feat_matrix = feat_dicts\n",
    "\n",
    "    return {'X': feat_matrix,\n",
    "            'y': labels,\n",
    "            'vectorizer': vectorizer,\n",
    "            'raw_examples': raw_examples}"
   ]
  },
  {
   "cell_type": "code",
   "execution_count": 14,
   "metadata": {},
   "outputs": [
    {
     "name": "stdout",
     "output_type": "stream",
     "text": [
      "              precision    recall  f1-score   support\n",
      "\n",
      "    negative      1.000     1.000     1.000       428\n",
      "     neutral      1.000     1.000     1.000       229\n",
      "    positive      1.000     1.000     1.000       444\n",
      "\n",
      "    accuracy                          1.000      1101\n",
      "   macro avg      1.000     1.000     1.000      1101\n",
      "weighted avg      1.000     1.000     1.000      1101\n",
      "\n"
     ]
    }
   ],
   "source": [
    "sentiment_iit_train_df = pd.read_csv('sst_tree_train.csv')\n",
    "sentiment_iit_dev_df = pd.read_csv('sst_tree_dev.csv')\n",
    "\n",
    "softmax_tree_experiment = sst_mod.experiment(\n",
    "    sentiment_iit_train_df,\n",
    "    unigrams_phi,\n",
    "    fit_softmax_classifier,\n",
    "    assess_dataframes=[sentiment_iit_dev_df],\n",
    "    vectorize=False,\n",
    "    build_dataset_fn=build_dataset_subtrees)"
   ]
  },
  {
   "cell_type": "code",
   "execution_count": 15,
   "metadata": {},
   "outputs": [],
   "source": [
    "class IIT_SentimentAnalysisDataset:\n",
    "    \"\"\"\n",
    "    Create data as follows:\n",
    "\n",
    "    (base sentence, source sentence, label of base, label of base intervened by source, location of intervention)\n",
    "\n",
    "    where location of intervention is either LEFT_SUBTREE or RIGHT_SUBTREE, and\n",
    "    label is either POSITIVE, NEUTRAL, or NEGATIVE.\n",
    "    \"\"\"\n",
    "\n",
    "    LEFT_SUBTREE = 0\n",
    "    RIGHT_SUBTREE = 1\n",
    "    POSITIVE = 0\n",
    "    NEUTRAL = 1\n",
    "    NEGATIVE = 2\n",
    "    LABELS = ['positive', 'neutral', 'negative']\n",
    "\n",
    "    def one_hot(self, label):\n",
    "        return np.eye(len(self.LABELS))[self.LABELS.index(label)]\n",
    "\n",
    "    def __init__(self, subtree_df, root_model, variable) -> None:\n",
    "        \"\"\"\n",
    "        subtree df has rows that give values for:\n",
    "        (sentence, label of sentence, left tree, label of left tree, right tree, label of right tree)\n",
    "\n",
    "        root_model is a function mapping from (left label, right label) --> full sentence label. \n",
    "        Ideally this is a simple model (e.g. LogisticRegression)\n",
    "\n",
    "        variable is either LEFT_SUBTREE or RIGHT_SUBTREE\n",
    "        \"\"\"\n",
    "        self.subtree_df = subtree_df\n",
    "        self.root_model = root_model\n",
    "        self.variable = variable\n",
    "\n",
    "    def create_take_two(self):\n",
    "        def intervene(base, source, location):\n",
    "            interventions_indices = ['left_label', 'right_label']\n",
    "            intervention_input = [0, 0] # set up two slots for values\n",
    "            intervention_input[location] = self.one_hot(source[interventions_indices[location]])\n",
    "            intervention_input[1 - location] = self.one_hot(base[interventions_indices[1 - location]])\n",
    "            return np.concatenate(intervention_input)\n",
    "        \n",
    "        n = len(self.subtree_df)\n",
    "\n",
    "        # data = [(self.subtree_df.iloc[b].sentence, \n",
    "        #          self.subtree_df.iloc[s].sentence, \n",
    "        #          self.subtree_df.iloc[b].sentence_label, \n",
    "        #          self.root_model.predict(intervene(self.subtree_df.iloc[b], self.subtree_df.iloc[s], self.variable))[0],\n",
    "        #          self.variable) for b in range(n) for s in range(n)]\n",
    "        base = [self.subtree_df.iloc[b].sentence for b in range(n) for _ in range(n)]\n",
    "        source = [self.subtree_df.iloc[s].sentence for _ in range(n) for s in range(n)]\n",
    "        y = [self.subtree_df.iloc[b].sentence_label for b in range(n) for _ in range(n)]\n",
    "        IIT_y = self.root_model.predict([intervene(self.subtree_df.iloc[b], self.subtree_df.iloc[s], self.variable) for b in range(n) for s in range(n)])\n",
    "        interventions = [self.variable] * (n * n)\n",
    "        self.counts = Counter(zip(y, [self.subtree_df.iloc[s].sentence_label for _ in range(n) for s in range(n)]))\n",
    "        print(self.counts)\n",
    "        self.data = list(zip(base, source, y, IIT_y, interventions))\n",
    "        # should I shuffle my data?\n",
    "        random.shuffle(self.data)\n",
    "        # why are we making a copy?\n",
    "        data = self.data.copy()\n",
    "        base, source, y, IIT_y, interventions = zip(*data)\n",
    "        self.base = np.array(base)\n",
    "        self.source = np.array(source)\n",
    "        self.y = np.array(y)\n",
    "        self.IIT_y = np.array(IIT_y)\n",
    "        self.interventions = np.array(interventions)\n",
    "        self.sources = [source] # feels like the same thing \n",
    "        return self.base, self.sources, self.y, self.IIT_y, self.interventions\n",
    "\n",
    "    def create(self):\n",
    "        self.counts = {}\n",
    "        self.data = []\n",
    "        for b in range(len(self.subtree_df)):\n",
    "            for s in range(len(self.subtree_df)):\n",
    "                base = self.subtree_df.iloc[b]\n",
    "                source = self.subtree_df.iloc[s]\n",
    "                base_label = base['sentence_label']\n",
    "                # extract subtree labels for root model evaluation\n",
    "                base_input = [base['left_label'], base['right_label']]\n",
    "                source_input = [source['left_label'], source['right_label']]\n",
    "                # intervene on base input with the source input at the intervention location\n",
    "                base_input[self.variable] = source_input[self.variable]\n",
    "                # run model to compute root value from leaves\n",
    "                model_input = [np.concatenate([self.one_hot(label) for label in base_input])]\n",
    "                iit_label = self.root_model.predict(model_input)[0]\n",
    "                # BE SURE TO COUNT +, -, and neutrals!!!\n",
    "                self.data.append((base.sentence, source.sentence, \n",
    "                                 base_label, iit_label, self.variable))\n",
    "                self.counts[(base_label, iit_label)] = self.counts.get((base_label, iit_label), 0) + 1\n",
    "        # should I shuffle my data?\n",
    "        random.shuffle(self.data)\n",
    "        # why are we making a copy?\n",
    "        data = self.data.copy()\n",
    "        base, source, y, IIT_y, interventions = zip(*data)\n",
    "        self.base = np.array(base)\n",
    "        self.source = np.array(source)\n",
    "        self.y = np.array(y)\n",
    "        self.IIT_y = np.array(IIT_y)\n",
    "        self.interventions = np.array(interventions)\n",
    "        self.sources = [source] # feels like the same thing \n",
    "        print(self.counts)\n",
    "        return self.base, self.sources, self.y, self.IIT_y, self.interventions\n",
    "\n",
    "LABELS = ['positive', 'neutral', 'negative']\n",
    "\n",
    "def get_IIT_sentiment_dataset(subtree_df, root_model, variable, phi, vectorizer=None, vectorize=True):\n",
    "    \"\"\"\n",
    "    variable is 0 or 1, corresponding to LEFT_SUBTREE or RIGHT_SUBTREE\n",
    "\n",
    "    phi is function to extract features from sentence\n",
    "    \"\"\"\n",
    "    dataset = IIT_SentimentAnalysisDataset(subtree_df, root_model, variable)\n",
    "    X_base, X_sources, y_base, y_IIT, interventions = dataset.create()\n",
    "    # use phi to extract features from sentences in base and source inputs\n",
    "    X = [phi(x) for x in X_base] + [phi(x) for source in X_sources for x in source]\n",
    "    if vectorize:\n",
    "        if vectorizer is None:\n",
    "            vectorizer = DictVectorizer(sparse=False)\n",
    "            X = vectorizer.fit_transform(X)\n",
    "        else:\n",
    "            X = vectorizer.transform(X)\n",
    "    # reshape X to list of length len(X_base)\n",
    "    X = [X[i:i + len(X_base)] for i in range(0, len(X), len(X_base))]\n",
    "    # first list is the base, the rest are the sources\n",
    "    # should I convert these to tensors? seems that build_dataset takes care of this anyway?\n",
    "    X_base = torch.tensor(X[0]) if vectorize else X[0]\n",
    "    X_sources = [torch.tensor(source) if vectorize else source for source in X[1:]]\n",
    "    y_base = torch.tensor([LABELS.index(label) for label in y_base])\n",
    "    y_IIT = torch.tensor([LABELS.index(label) for label in y_IIT])\n",
    "    interventions = torch.tensor(interventions)\n",
    "    return X_base, X_sources, y_base, y_IIT, interventions, vectorizer\n",
    "\n",
    "def get_IIT_sentiment_devset(dev_df, variable, phi, vectorizer, vectorize=True):\n",
    "    LABELS = ['positive', 'neutral', 'negative']\n",
    "    sentences = [phi(x) for x in dev_df['sentence'].values]\n",
    "    if vectorize:\n",
    "        sentences = torch.tensor(vectorizer.transform(sentences))\n",
    "    labels = torch.tensor([LABELS.index(x) for x in dev_df['label'].values])\n",
    "    # can I make my sources and IIT labels empty??\n",
    "    # what if I don't have a way to measure IIT labels for the test set?\n",
    "    sources = [sentences]\n",
    "    y_IIT = labels\n",
    "    interventions = torch.tensor([variable] * len(dev_df))\n",
    "    return sentences, sources, labels, y_IIT, interventions"
   ]
  },
  {
   "cell_type": "code",
   "execution_count": 16,
   "metadata": {},
   "outputs": [
    {
     "name": "stdout",
     "output_type": "stream",
     "text": [
      "{('negative', 'negative'): 56, ('negative', 'neutral'): 3, ('negative', 'positive'): 1, ('neutral', 'negative'): 18, ('neutral', 'neutral'): 9, ('neutral', 'positive'): 3, ('positive', 'negative'): 6, ('positive', 'neutral'): 3, ('positive', 'positive'): 1}\n",
      "torch.Size([80, 135])\n"
     ]
    }
   ],
   "source": [
    "LEFT = 0\n",
    "RIGHT = 1\n",
    "softmax_root_model = softmax_tree_experiment['model']\n",
    "\n",
    "data_size = 10\n",
    "X_base, X_sources, y_base, y_IIT, interventions, vectorizer = get_IIT_sentiment_dataset(sentiment_iit_dev_df.sample(data_size), softmax_root_model, LEFT, unigrams_phi)\n",
    "\n",
    "split = (data_size * data_size) // 5\n",
    "\n",
    "X_base_train = X_base[split:]\n",
    "X_sources_train = [source[split:] for source in X_sources]\n",
    "y_base_train = y_base[split:]\n",
    "y_IIT_train = y_IIT[split:]\n",
    "interventions_train = interventions[split:]\n",
    "\n",
    "\n",
    "print(X_base_train.shape)"
   ]
  },
  {
   "cell_type": "code",
   "execution_count": 17,
   "metadata": {},
   "outputs": [
    {
     "name": "stderr",
     "output_type": "stream",
     "text": [
      "Stopping after epoch 54. Training loss did not improve more than tol=1e-05. Final error is 4.617796093953075e-06."
     ]
    }
   ],
   "source": [
    "embedding_dim = X_base.shape[1]\n",
    "V1 = 0\n",
    "V2 = 1\n",
    "both = 2\n",
    "# similar to our alignment in the IIT accuracy section?\n",
    "# aligning V1 to left side of layer 1, and V2 to the right side\n",
    "# we are defining both as a list with two values -- why not encode it as a single range from 0  to dim * 2?\n",
    "id_to_coords = {V1:{1: [{\"layer\":1, \"start\":0, \"end\":embedding_dim}]}, \\\n",
    "    V2: {1: [{\"layer\":1, \"start\":embedding_dim, \"end\":embedding_dim*2}]}, \\\n",
    "    both: {1: [{\"layer\":1, \"start\":0, \"end\":embedding_dim},{\"layer\":1, \"start\":embedding_dim, \"end\":embedding_dim*2}]}}\n",
    "\n",
    "# gives back an IIT dataset based off of the Premack dataset, coming up with \n",
    "# all possible permutations of same/different shape pairs and same/different base-source pairs?\n",
    "# X_base_train, X_sources_train, y_base_train, y_IIT_train, interventions = get_IIT_equality_dataset(\"V1\", embedding_dim ,data_size)\n",
    "\n",
    "# this is a different model from the one we defined in the previous cell, but with a similar idea?\n",
    "model = TorchDeepNeuralClassifierIIT(hidden_dim=embedding_dim*4, hidden_activation=torch.nn.ReLU(), num_layers=3, id_to_coords=id_to_coords)\n",
    "# model.fit() function internally calls on model.create_dataset(), which creates dataset in a way that pairs off\n",
    "# source and base inputs?\n",
    "_ = model.fit(X_base_train, X_sources_train, y_base_train, y_IIT_train, interventions_train)\n",
    "\n",
    "# this is a runtime error I've also encountered in antra (with no change to the original code)\n",
    "# could this be due to mismatching pytorch versions??"
   ]
  },
  {
   "cell_type": "code",
   "execution_count": 18,
   "metadata": {},
   "outputs": [
    {
     "name": "stdout",
     "output_type": "stream",
     "text": [
      "              precision    recall  f1-score   support\n",
      "\n",
      "           0       1.00      1.00      1.00         3\n",
      "           1       1.00      1.00      1.00         7\n",
      "           2       1.00      1.00      1.00        10\n",
      "\n",
      "    accuracy                           1.00        20\n",
      "   macro avg       1.00      1.00      1.00        20\n",
      "weighted avg       1.00      1.00      1.00        20\n",
      "\n",
      "              precision    recall  f1-score   support\n",
      "\n",
      "           0       1.00      1.00      1.00         2\n",
      "           1       1.00      1.00      1.00         4\n",
      "           2       1.00      1.00      1.00        14\n",
      "\n",
      "    accuracy                           1.00        20\n",
      "   macro avg       1.00      1.00      1.00        20\n",
      "weighted avg       1.00      1.00      1.00        20\n",
      "\n"
     ]
    }
   ],
   "source": [
    "X_base_test = X_base[:split]\n",
    "X_sources_test = [source[:split] for source in X_sources]\n",
    "y_base_test = y_base[:split]\n",
    "y_IIT_test = y_IIT[:split]\n",
    "interventions_test = interventions[:split]\n",
    "\n",
    "IIT_preds, base_preds = model.model(model.prep_input(X_base_test, X_sources_test, interventions_test))\n",
    "IIT_preds = np.array(IIT_preds.argmax(axis=1).cpu())\n",
    "base_preds = np.array(base_preds.argmax(axis=1).cpu())\n",
    "print(classification_report(y_base_test, base_preds))\n",
    "print(classification_report(y_IIT_test, IIT_preds))"
   ]
  },
  {
   "cell_type": "code",
   "execution_count": 19,
   "metadata": {},
   "outputs": [
    {
     "name": "stdout",
     "output_type": "stream",
     "text": [
      "              precision    recall  f1-score   support\n",
      "\n",
      "           0       0.25      0.05      0.08       777\n",
      "           1       0.00      0.00      0.00      1019\n",
      "           2       0.24      0.94      0.38       565\n",
      "\n",
      "    accuracy                           0.24      2361\n",
      "   macro avg       0.16      0.33      0.15      2361\n",
      "weighted avg       0.14      0.24      0.12      2361\n",
      "\n"
     ]
    }
   ],
   "source": [
    "X_base_dev, X_sources_dev, y_base_dev, y_IIT_dev, interventions_dev = get_IIT_sentiment_devset(bakeoff_dev, LEFT, unigrams_phi, vectorizer)\n",
    "\n",
    "IIT_preds, base_preds = model.model(model.prep_input(X_base_dev, X_sources_dev, interventions_dev))\n",
    "base_preds = np.array(base_preds.argmax(axis=1).cpu())\n",
    "print(classification_report(y_base_dev, base_preds))"
   ]
  },
  {
   "cell_type": "code",
   "execution_count": 26,
   "metadata": {},
   "outputs": [
    {
     "name": "stdout",
     "output_type": "stream",
     "text": [
      "5\n"
     ]
    },
    {
     "data": {
      "text/plain": [
       "[BertEmbeddings(\n",
       "   (word_embeddings): Embedding(28996, 768, padding_idx=0)\n",
       "   (position_embeddings): Embedding(512, 768)\n",
       "   (token_type_embeddings): Embedding(2, 768)\n",
       "   (LayerNorm): LayerNorm((768,), eps=1e-12, elementwise_affine=True)\n",
       "   (dropout): Dropout(p=0.1, inplace=False)\n",
       " ),\n",
       " BertEncoder(\n",
       "   (layer): ModuleList(\n",
       "     (0): BertLayer(\n",
       "       (attention): BertAttention(\n",
       "         (self): BertSelfAttention(\n",
       "           (query): Linear(in_features=768, out_features=768, bias=True)\n",
       "           (key): Linear(in_features=768, out_features=768, bias=True)\n",
       "           (value): Linear(in_features=768, out_features=768, bias=True)\n",
       "           (dropout): Dropout(p=0.1, inplace=False)\n",
       "         )\n",
       "         (output): BertSelfOutput(\n",
       "           (dense): Linear(in_features=768, out_features=768, bias=True)\n",
       "           (LayerNorm): LayerNorm((768,), eps=1e-12, elementwise_affine=True)\n",
       "           (dropout): Dropout(p=0.1, inplace=False)\n",
       "         )\n",
       "       )\n",
       "       (intermediate): BertIntermediate(\n",
       "         (dense): Linear(in_features=768, out_features=3072, bias=True)\n",
       "       )\n",
       "       (output): BertOutput(\n",
       "         (dense): Linear(in_features=3072, out_features=768, bias=True)\n",
       "         (LayerNorm): LayerNorm((768,), eps=1e-12, elementwise_affine=True)\n",
       "         (dropout): Dropout(p=0.1, inplace=False)\n",
       "       )\n",
       "     )\n",
       "     (1): BertLayer(\n",
       "       (attention): BertAttention(\n",
       "         (self): BertSelfAttention(\n",
       "           (query): Linear(in_features=768, out_features=768, bias=True)\n",
       "           (key): Linear(in_features=768, out_features=768, bias=True)\n",
       "           (value): Linear(in_features=768, out_features=768, bias=True)\n",
       "           (dropout): Dropout(p=0.1, inplace=False)\n",
       "         )\n",
       "         (output): BertSelfOutput(\n",
       "           (dense): Linear(in_features=768, out_features=768, bias=True)\n",
       "           (LayerNorm): LayerNorm((768,), eps=1e-12, elementwise_affine=True)\n",
       "           (dropout): Dropout(p=0.1, inplace=False)\n",
       "         )\n",
       "       )\n",
       "       (intermediate): BertIntermediate(\n",
       "         (dense): Linear(in_features=768, out_features=3072, bias=True)\n",
       "       )\n",
       "       (output): BertOutput(\n",
       "         (dense): Linear(in_features=3072, out_features=768, bias=True)\n",
       "         (LayerNorm): LayerNorm((768,), eps=1e-12, elementwise_affine=True)\n",
       "         (dropout): Dropout(p=0.1, inplace=False)\n",
       "       )\n",
       "     )\n",
       "     (2): BertLayer(\n",
       "       (attention): BertAttention(\n",
       "         (self): BertSelfAttention(\n",
       "           (query): Linear(in_features=768, out_features=768, bias=True)\n",
       "           (key): Linear(in_features=768, out_features=768, bias=True)\n",
       "           (value): Linear(in_features=768, out_features=768, bias=True)\n",
       "           (dropout): Dropout(p=0.1, inplace=False)\n",
       "         )\n",
       "         (output): BertSelfOutput(\n",
       "           (dense): Linear(in_features=768, out_features=768, bias=True)\n",
       "           (LayerNorm): LayerNorm((768,), eps=1e-12, elementwise_affine=True)\n",
       "           (dropout): Dropout(p=0.1, inplace=False)\n",
       "         )\n",
       "       )\n",
       "       (intermediate): BertIntermediate(\n",
       "         (dense): Linear(in_features=768, out_features=3072, bias=True)\n",
       "       )\n",
       "       (output): BertOutput(\n",
       "         (dense): Linear(in_features=3072, out_features=768, bias=True)\n",
       "         (LayerNorm): LayerNorm((768,), eps=1e-12, elementwise_affine=True)\n",
       "         (dropout): Dropout(p=0.1, inplace=False)\n",
       "       )\n",
       "     )\n",
       "     (3): BertLayer(\n",
       "       (attention): BertAttention(\n",
       "         (self): BertSelfAttention(\n",
       "           (query): Linear(in_features=768, out_features=768, bias=True)\n",
       "           (key): Linear(in_features=768, out_features=768, bias=True)\n",
       "           (value): Linear(in_features=768, out_features=768, bias=True)\n",
       "           (dropout): Dropout(p=0.1, inplace=False)\n",
       "         )\n",
       "         (output): BertSelfOutput(\n",
       "           (dense): Linear(in_features=768, out_features=768, bias=True)\n",
       "           (LayerNorm): LayerNorm((768,), eps=1e-12, elementwise_affine=True)\n",
       "           (dropout): Dropout(p=0.1, inplace=False)\n",
       "         )\n",
       "       )\n",
       "       (intermediate): BertIntermediate(\n",
       "         (dense): Linear(in_features=768, out_features=3072, bias=True)\n",
       "       )\n",
       "       (output): BertOutput(\n",
       "         (dense): Linear(in_features=3072, out_features=768, bias=True)\n",
       "         (LayerNorm): LayerNorm((768,), eps=1e-12, elementwise_affine=True)\n",
       "         (dropout): Dropout(p=0.1, inplace=False)\n",
       "       )\n",
       "     )\n",
       "     (4): BertLayer(\n",
       "       (attention): BertAttention(\n",
       "         (self): BertSelfAttention(\n",
       "           (query): Linear(in_features=768, out_features=768, bias=True)\n",
       "           (key): Linear(in_features=768, out_features=768, bias=True)\n",
       "           (value): Linear(in_features=768, out_features=768, bias=True)\n",
       "           (dropout): Dropout(p=0.1, inplace=False)\n",
       "         )\n",
       "         (output): BertSelfOutput(\n",
       "           (dense): Linear(in_features=768, out_features=768, bias=True)\n",
       "           (LayerNorm): LayerNorm((768,), eps=1e-12, elementwise_affine=True)\n",
       "           (dropout): Dropout(p=0.1, inplace=False)\n",
       "         )\n",
       "       )\n",
       "       (intermediate): BertIntermediate(\n",
       "         (dense): Linear(in_features=768, out_features=3072, bias=True)\n",
       "       )\n",
       "       (output): BertOutput(\n",
       "         (dense): Linear(in_features=3072, out_features=768, bias=True)\n",
       "         (LayerNorm): LayerNorm((768,), eps=1e-12, elementwise_affine=True)\n",
       "         (dropout): Dropout(p=0.1, inplace=False)\n",
       "       )\n",
       "     )\n",
       "     (5): BertLayer(\n",
       "       (attention): BertAttention(\n",
       "         (self): BertSelfAttention(\n",
       "           (query): Linear(in_features=768, out_features=768, bias=True)\n",
       "           (key): Linear(in_features=768, out_features=768, bias=True)\n",
       "           (value): Linear(in_features=768, out_features=768, bias=True)\n",
       "           (dropout): Dropout(p=0.1, inplace=False)\n",
       "         )\n",
       "         (output): BertSelfOutput(\n",
       "           (dense): Linear(in_features=768, out_features=768, bias=True)\n",
       "           (LayerNorm): LayerNorm((768,), eps=1e-12, elementwise_affine=True)\n",
       "           (dropout): Dropout(p=0.1, inplace=False)\n",
       "         )\n",
       "       )\n",
       "       (intermediate): BertIntermediate(\n",
       "         (dense): Linear(in_features=768, out_features=3072, bias=True)\n",
       "       )\n",
       "       (output): BertOutput(\n",
       "         (dense): Linear(in_features=3072, out_features=768, bias=True)\n",
       "         (LayerNorm): LayerNorm((768,), eps=1e-12, elementwise_affine=True)\n",
       "         (dropout): Dropout(p=0.1, inplace=False)\n",
       "       )\n",
       "     )\n",
       "     (6): BertLayer(\n",
       "       (attention): BertAttention(\n",
       "         (self): BertSelfAttention(\n",
       "           (query): Linear(in_features=768, out_features=768, bias=True)\n",
       "           (key): Linear(in_features=768, out_features=768, bias=True)\n",
       "           (value): Linear(in_features=768, out_features=768, bias=True)\n",
       "           (dropout): Dropout(p=0.1, inplace=False)\n",
       "         )\n",
       "         (output): BertSelfOutput(\n",
       "           (dense): Linear(in_features=768, out_features=768, bias=True)\n",
       "           (LayerNorm): LayerNorm((768,), eps=1e-12, elementwise_affine=True)\n",
       "           (dropout): Dropout(p=0.1, inplace=False)\n",
       "         )\n",
       "       )\n",
       "       (intermediate): BertIntermediate(\n",
       "         (dense): Linear(in_features=768, out_features=3072, bias=True)\n",
       "       )\n",
       "       (output): BertOutput(\n",
       "         (dense): Linear(in_features=3072, out_features=768, bias=True)\n",
       "         (LayerNorm): LayerNorm((768,), eps=1e-12, elementwise_affine=True)\n",
       "         (dropout): Dropout(p=0.1, inplace=False)\n",
       "       )\n",
       "     )\n",
       "     (7): BertLayer(\n",
       "       (attention): BertAttention(\n",
       "         (self): BertSelfAttention(\n",
       "           (query): Linear(in_features=768, out_features=768, bias=True)\n",
       "           (key): Linear(in_features=768, out_features=768, bias=True)\n",
       "           (value): Linear(in_features=768, out_features=768, bias=True)\n",
       "           (dropout): Dropout(p=0.1, inplace=False)\n",
       "         )\n",
       "         (output): BertSelfOutput(\n",
       "           (dense): Linear(in_features=768, out_features=768, bias=True)\n",
       "           (LayerNorm): LayerNorm((768,), eps=1e-12, elementwise_affine=True)\n",
       "           (dropout): Dropout(p=0.1, inplace=False)\n",
       "         )\n",
       "       )\n",
       "       (intermediate): BertIntermediate(\n",
       "         (dense): Linear(in_features=768, out_features=3072, bias=True)\n",
       "       )\n",
       "       (output): BertOutput(\n",
       "         (dense): Linear(in_features=3072, out_features=768, bias=True)\n",
       "         (LayerNorm): LayerNorm((768,), eps=1e-12, elementwise_affine=True)\n",
       "         (dropout): Dropout(p=0.1, inplace=False)\n",
       "       )\n",
       "     )\n",
       "     (8): BertLayer(\n",
       "       (attention): BertAttention(\n",
       "         (self): BertSelfAttention(\n",
       "           (query): Linear(in_features=768, out_features=768, bias=True)\n",
       "           (key): Linear(in_features=768, out_features=768, bias=True)\n",
       "           (value): Linear(in_features=768, out_features=768, bias=True)\n",
       "           (dropout): Dropout(p=0.1, inplace=False)\n",
       "         )\n",
       "         (output): BertSelfOutput(\n",
       "           (dense): Linear(in_features=768, out_features=768, bias=True)\n",
       "           (LayerNorm): LayerNorm((768,), eps=1e-12, elementwise_affine=True)\n",
       "           (dropout): Dropout(p=0.1, inplace=False)\n",
       "         )\n",
       "       )\n",
       "       (intermediate): BertIntermediate(\n",
       "         (dense): Linear(in_features=768, out_features=3072, bias=True)\n",
       "       )\n",
       "       (output): BertOutput(\n",
       "         (dense): Linear(in_features=3072, out_features=768, bias=True)\n",
       "         (LayerNorm): LayerNorm((768,), eps=1e-12, elementwise_affine=True)\n",
       "         (dropout): Dropout(p=0.1, inplace=False)\n",
       "       )\n",
       "     )\n",
       "     (9): BertLayer(\n",
       "       (attention): BertAttention(\n",
       "         (self): BertSelfAttention(\n",
       "           (query): Linear(in_features=768, out_features=768, bias=True)\n",
       "           (key): Linear(in_features=768, out_features=768, bias=True)\n",
       "           (value): Linear(in_features=768, out_features=768, bias=True)\n",
       "           (dropout): Dropout(p=0.1, inplace=False)\n",
       "         )\n",
       "         (output): BertSelfOutput(\n",
       "           (dense): Linear(in_features=768, out_features=768, bias=True)\n",
       "           (LayerNorm): LayerNorm((768,), eps=1e-12, elementwise_affine=True)\n",
       "           (dropout): Dropout(p=0.1, inplace=False)\n",
       "         )\n",
       "       )\n",
       "       (intermediate): BertIntermediate(\n",
       "         (dense): Linear(in_features=768, out_features=3072, bias=True)\n",
       "       )\n",
       "       (output): BertOutput(\n",
       "         (dense): Linear(in_features=3072, out_features=768, bias=True)\n",
       "         (LayerNorm): LayerNorm((768,), eps=1e-12, elementwise_affine=True)\n",
       "         (dropout): Dropout(p=0.1, inplace=False)\n",
       "       )\n",
       "     )\n",
       "     (10): BertLayer(\n",
       "       (attention): BertAttention(\n",
       "         (self): BertSelfAttention(\n",
       "           (query): Linear(in_features=768, out_features=768, bias=True)\n",
       "           (key): Linear(in_features=768, out_features=768, bias=True)\n",
       "           (value): Linear(in_features=768, out_features=768, bias=True)\n",
       "           (dropout): Dropout(p=0.1, inplace=False)\n",
       "         )\n",
       "         (output): BertSelfOutput(\n",
       "           (dense): Linear(in_features=768, out_features=768, bias=True)\n",
       "           (LayerNorm): LayerNorm((768,), eps=1e-12, elementwise_affine=True)\n",
       "           (dropout): Dropout(p=0.1, inplace=False)\n",
       "         )\n",
       "       )\n",
       "       (intermediate): BertIntermediate(\n",
       "         (dense): Linear(in_features=768, out_features=3072, bias=True)\n",
       "       )\n",
       "       (output): BertOutput(\n",
       "         (dense): Linear(in_features=3072, out_features=768, bias=True)\n",
       "         (LayerNorm): LayerNorm((768,), eps=1e-12, elementwise_affine=True)\n",
       "         (dropout): Dropout(p=0.1, inplace=False)\n",
       "       )\n",
       "     )\n",
       "     (11): BertLayer(\n",
       "       (attention): BertAttention(\n",
       "         (self): BertSelfAttention(\n",
       "           (query): Linear(in_features=768, out_features=768, bias=True)\n",
       "           (key): Linear(in_features=768, out_features=768, bias=True)\n",
       "           (value): Linear(in_features=768, out_features=768, bias=True)\n",
       "           (dropout): Dropout(p=0.1, inplace=False)\n",
       "         )\n",
       "         (output): BertSelfOutput(\n",
       "           (dense): Linear(in_features=768, out_features=768, bias=True)\n",
       "           (LayerNorm): LayerNorm((768,), eps=1e-12, elementwise_affine=True)\n",
       "           (dropout): Dropout(p=0.1, inplace=False)\n",
       "         )\n",
       "       )\n",
       "       (intermediate): BertIntermediate(\n",
       "         (dense): Linear(in_features=768, out_features=3072, bias=True)\n",
       "       )\n",
       "       (output): BertOutput(\n",
       "         (dense): Linear(in_features=3072, out_features=768, bias=True)\n",
       "         (LayerNorm): LayerNorm((768,), eps=1e-12, elementwise_affine=True)\n",
       "         (dropout): Dropout(p=0.1, inplace=False)\n",
       "       )\n",
       "     )\n",
       "   )\n",
       " ),\n",
       " BertPooler(\n",
       "   (dense): Linear(in_features=768, out_features=768, bias=True)\n",
       "   (activation): Tanh()\n",
       " ),\n",
       " Linear(in_features=768, out_features=768, bias=True),\n",
       " Linear(in_features=768, out_features=3, bias=True)]"
      ]
     },
     "execution_count": 26,
     "metadata": {},
     "output_type": "execute_result"
    }
   ],
   "source": [
    "from torch_bert_classifier import HfBertClassifierModel\n",
    "\n",
    "test_bert = HfBertClassifierModel(3)\n",
    "\n",
    "# test_data = HfBertClassifier().build_dataset([\"I hated everything about this\"])\n",
    "# X = torch.cat(test_data.tensors, dim=1)\n",
    "\n",
    "c = list(test_bert.layers)\n",
    "print(len(c))\n",
    "c"
   ]
  },
  {
   "cell_type": "code",
   "execution_count": 25,
   "metadata": {},
   "outputs": [
    {
     "name": "stderr",
     "output_type": "stream",
     "text": [
      "Finished epoch 9 of 1000; error is 5.2372517585754395"
     ]
    },
    {
     "ename": "KeyboardInterrupt",
     "evalue": "",
     "output_type": "error",
     "traceback": [
      "\u001b[1;31m---------------------------------------------------------------------------\u001b[0m",
      "\u001b[1;31mKeyboardInterrupt\u001b[0m                         Traceback (most recent call last)",
      "\u001b[1;32mc:\\Users\\amirz\\Documents\\linguist195a\\cs224u\\hw_sentiment.ipynb Cell 38'\u001b[0m in \u001b[0;36m<cell line: 20>\u001b[1;34m()\u001b[0m\n\u001b[0;32m     <a href='vscode-notebook-cell:/c%3A/Users/amirz/Documents/linguist195a/cs224u/hw_sentiment.ipynb#ch0000086?line=16'>17</a>\u001b[0m y \u001b[39m=\u001b[39m [\u001b[39m0\u001b[39m, \u001b[39m1\u001b[39m]\n\u001b[0;32m     <a href='vscode-notebook-cell:/c%3A/Users/amirz/Documents/linguist195a/cs224u/hw_sentiment.ipynb#ch0000086?line=17'>18</a>\u001b[0m y_IIT \u001b[39m=\u001b[39m [\u001b[39m0\u001b[39m, \u001b[39m1\u001b[39m]\n\u001b[1;32m---> <a href='vscode-notebook-cell:/c%3A/Users/amirz/Documents/linguist195a/cs224u/hw_sentiment.ipynb#ch0000086?line=19'>20</a>\u001b[0m _ \u001b[39m=\u001b[39m test_model\u001b[39m.\u001b[39;49mfit(base, sources, y, y_IIT, coord_ids)\n",
      "File \u001b[1;32mc:\\Users\\amirz\\Documents\\linguist195a\\cs224u\\torch_model_base.py:373\u001b[0m, in \u001b[0;36mTorchModelBase.fit\u001b[1;34m(self, *args)\u001b[0m\n\u001b[0;32m    <a href='file:///c%3A/Users/amirz/Documents/linguist195a/cs224u/torch_model_base.py?line=369'>370</a>\u001b[0m         \u001b[39mif\u001b[39;00m \u001b[39mself\u001b[39m\u001b[39m.\u001b[39mmax_grad_norm \u001b[39mis\u001b[39;00m \u001b[39mnot\u001b[39;00m \u001b[39mNone\u001b[39;00m:\n\u001b[0;32m    <a href='file:///c%3A/Users/amirz/Documents/linguist195a/cs224u/torch_model_base.py?line=370'>371</a>\u001b[0m             torch\u001b[39m.\u001b[39mnn\u001b[39m.\u001b[39mutils\u001b[39m.\u001b[39mclip_grad_norm_(\n\u001b[0;32m    <a href='file:///c%3A/Users/amirz/Documents/linguist195a/cs224u/torch_model_base.py?line=371'>372</a>\u001b[0m                 \u001b[39mself\u001b[39m\u001b[39m.\u001b[39mmodel\u001b[39m.\u001b[39mparameters(), \u001b[39mself\u001b[39m\u001b[39m.\u001b[39mmax_grad_norm)\n\u001b[1;32m--> <a href='file:///c%3A/Users/amirz/Documents/linguist195a/cs224u/torch_model_base.py?line=372'>373</a>\u001b[0m         \u001b[39mself\u001b[39;49m\u001b[39m.\u001b[39;49moptimizer\u001b[39m.\u001b[39;49mstep()\n\u001b[0;32m    <a href='file:///c%3A/Users/amirz/Documents/linguist195a/cs224u/torch_model_base.py?line=373'>374</a>\u001b[0m         \u001b[39mself\u001b[39m\u001b[39m.\u001b[39moptimizer\u001b[39m.\u001b[39mzero_grad()\n\u001b[0;32m    <a href='file:///c%3A/Users/amirz/Documents/linguist195a/cs224u/torch_model_base.py?line=375'>376</a>\u001b[0m \u001b[39m# Stopping criteria:\u001b[39;00m\n",
      "File \u001b[1;32m~\\anaconda3\\envs\\iit\\lib\\site-packages\\torch\\optim\\optimizer.py:88\u001b[0m, in \u001b[0;36mOptimizer._hook_for_profile.<locals>.profile_hook_step.<locals>.wrapper\u001b[1;34m(*args, **kwargs)\u001b[0m\n\u001b[0;32m     <a href='file:///c%3A/Users/amirz/anaconda3/envs/iit/lib/site-packages/torch/optim/optimizer.py?line=85'>86</a>\u001b[0m profile_name \u001b[39m=\u001b[39m \u001b[39m\"\u001b[39m\u001b[39mOptimizer.step#\u001b[39m\u001b[39m{}\u001b[39;00m\u001b[39m.step\u001b[39m\u001b[39m\"\u001b[39m\u001b[39m.\u001b[39mformat(obj\u001b[39m.\u001b[39m\u001b[39m__class__\u001b[39m\u001b[39m.\u001b[39m\u001b[39m__name__\u001b[39m)\n\u001b[0;32m     <a href='file:///c%3A/Users/amirz/anaconda3/envs/iit/lib/site-packages/torch/optim/optimizer.py?line=86'>87</a>\u001b[0m \u001b[39mwith\u001b[39;00m torch\u001b[39m.\u001b[39mautograd\u001b[39m.\u001b[39mprofiler\u001b[39m.\u001b[39mrecord_function(profile_name):\n\u001b[1;32m---> <a href='file:///c%3A/Users/amirz/anaconda3/envs/iit/lib/site-packages/torch/optim/optimizer.py?line=87'>88</a>\u001b[0m     \u001b[39mreturn\u001b[39;00m func(\u001b[39m*\u001b[39margs, \u001b[39m*\u001b[39m\u001b[39m*\u001b[39mkwargs)\n",
      "File \u001b[1;32m~\\anaconda3\\envs\\iit\\lib\\site-packages\\torch\\autograd\\grad_mode.py:28\u001b[0m, in \u001b[0;36m_DecoratorContextManager.__call__.<locals>.decorate_context\u001b[1;34m(*args, **kwargs)\u001b[0m\n\u001b[0;32m     <a href='file:///c%3A/Users/amirz/anaconda3/envs/iit/lib/site-packages/torch/autograd/grad_mode.py?line=24'>25</a>\u001b[0m \u001b[39m@functools\u001b[39m\u001b[39m.\u001b[39mwraps(func)\n\u001b[0;32m     <a href='file:///c%3A/Users/amirz/anaconda3/envs/iit/lib/site-packages/torch/autograd/grad_mode.py?line=25'>26</a>\u001b[0m \u001b[39mdef\u001b[39;00m \u001b[39mdecorate_context\u001b[39m(\u001b[39m*\u001b[39margs, \u001b[39m*\u001b[39m\u001b[39m*\u001b[39mkwargs):\n\u001b[0;32m     <a href='file:///c%3A/Users/amirz/anaconda3/envs/iit/lib/site-packages/torch/autograd/grad_mode.py?line=26'>27</a>\u001b[0m     \u001b[39mwith\u001b[39;00m \u001b[39mself\u001b[39m\u001b[39m.\u001b[39m\u001b[39m__class__\u001b[39m():\n\u001b[1;32m---> <a href='file:///c%3A/Users/amirz/anaconda3/envs/iit/lib/site-packages/torch/autograd/grad_mode.py?line=27'>28</a>\u001b[0m         \u001b[39mreturn\u001b[39;00m func(\u001b[39m*\u001b[39margs, \u001b[39m*\u001b[39m\u001b[39m*\u001b[39mkwargs)\n",
      "File \u001b[1;32m~\\anaconda3\\envs\\iit\\lib\\site-packages\\torch\\optim\\adam.py:107\u001b[0m, in \u001b[0;36mAdam.step\u001b[1;34m(self, closure)\u001b[0m\n\u001b[0;32m    <a href='file:///c%3A/Users/amirz/anaconda3/envs/iit/lib/site-packages/torch/optim/adam.py?line=103'>104</a>\u001b[0m             \u001b[39m# record the step after step update\u001b[39;00m\n\u001b[0;32m    <a href='file:///c%3A/Users/amirz/anaconda3/envs/iit/lib/site-packages/torch/optim/adam.py?line=104'>105</a>\u001b[0m             state_steps\u001b[39m.\u001b[39mappend(state[\u001b[39m'\u001b[39m\u001b[39mstep\u001b[39m\u001b[39m'\u001b[39m])\n\u001b[1;32m--> <a href='file:///c%3A/Users/amirz/anaconda3/envs/iit/lib/site-packages/torch/optim/adam.py?line=106'>107</a>\u001b[0m     F\u001b[39m.\u001b[39;49madam(params_with_grad,\n\u001b[0;32m    <a href='file:///c%3A/Users/amirz/anaconda3/envs/iit/lib/site-packages/torch/optim/adam.py?line=107'>108</a>\u001b[0m            grads,\n\u001b[0;32m    <a href='file:///c%3A/Users/amirz/anaconda3/envs/iit/lib/site-packages/torch/optim/adam.py?line=108'>109</a>\u001b[0m            exp_avgs,\n\u001b[0;32m    <a href='file:///c%3A/Users/amirz/anaconda3/envs/iit/lib/site-packages/torch/optim/adam.py?line=109'>110</a>\u001b[0m            exp_avg_sqs,\n\u001b[0;32m    <a href='file:///c%3A/Users/amirz/anaconda3/envs/iit/lib/site-packages/torch/optim/adam.py?line=110'>111</a>\u001b[0m            max_exp_avg_sqs,\n\u001b[0;32m    <a href='file:///c%3A/Users/amirz/anaconda3/envs/iit/lib/site-packages/torch/optim/adam.py?line=111'>112</a>\u001b[0m            state_steps,\n\u001b[0;32m    <a href='file:///c%3A/Users/amirz/anaconda3/envs/iit/lib/site-packages/torch/optim/adam.py?line=112'>113</a>\u001b[0m            amsgrad\u001b[39m=\u001b[39;49mgroup[\u001b[39m'\u001b[39;49m\u001b[39mamsgrad\u001b[39;49m\u001b[39m'\u001b[39;49m],\n\u001b[0;32m    <a href='file:///c%3A/Users/amirz/anaconda3/envs/iit/lib/site-packages/torch/optim/adam.py?line=113'>114</a>\u001b[0m            beta1\u001b[39m=\u001b[39;49mbeta1,\n\u001b[0;32m    <a href='file:///c%3A/Users/amirz/anaconda3/envs/iit/lib/site-packages/torch/optim/adam.py?line=114'>115</a>\u001b[0m            beta2\u001b[39m=\u001b[39;49mbeta2,\n\u001b[0;32m    <a href='file:///c%3A/Users/amirz/anaconda3/envs/iit/lib/site-packages/torch/optim/adam.py?line=115'>116</a>\u001b[0m            lr\u001b[39m=\u001b[39;49mgroup[\u001b[39m'\u001b[39;49m\u001b[39mlr\u001b[39;49m\u001b[39m'\u001b[39;49m],\n\u001b[0;32m    <a href='file:///c%3A/Users/amirz/anaconda3/envs/iit/lib/site-packages/torch/optim/adam.py?line=116'>117</a>\u001b[0m            weight_decay\u001b[39m=\u001b[39;49mgroup[\u001b[39m'\u001b[39;49m\u001b[39mweight_decay\u001b[39;49m\u001b[39m'\u001b[39;49m],\n\u001b[0;32m    <a href='file:///c%3A/Users/amirz/anaconda3/envs/iit/lib/site-packages/torch/optim/adam.py?line=117'>118</a>\u001b[0m            eps\u001b[39m=\u001b[39;49mgroup[\u001b[39m'\u001b[39;49m\u001b[39meps\u001b[39;49m\u001b[39m'\u001b[39;49m])\n\u001b[0;32m    <a href='file:///c%3A/Users/amirz/anaconda3/envs/iit/lib/site-packages/torch/optim/adam.py?line=118'>119</a>\u001b[0m \u001b[39mreturn\u001b[39;00m loss\n",
      "File \u001b[1;32m~\\anaconda3\\envs\\iit\\lib\\site-packages\\torch\\optim\\_functional.py:98\u001b[0m, in \u001b[0;36madam\u001b[1;34m(params, grads, exp_avgs, exp_avg_sqs, max_exp_avg_sqs, state_steps, amsgrad, beta1, beta2, lr, weight_decay, eps)\u001b[0m\n\u001b[0;32m     <a href='file:///c%3A/Users/amirz/anaconda3/envs/iit/lib/site-packages/torch/optim/_functional.py?line=93'>94</a>\u001b[0m     denom \u001b[39m=\u001b[39m (exp_avg_sq\u001b[39m.\u001b[39msqrt() \u001b[39m/\u001b[39m math\u001b[39m.\u001b[39msqrt(bias_correction2))\u001b[39m.\u001b[39madd_(eps)\n\u001b[0;32m     <a href='file:///c%3A/Users/amirz/anaconda3/envs/iit/lib/site-packages/torch/optim/_functional.py?line=95'>96</a>\u001b[0m step_size \u001b[39m=\u001b[39m lr \u001b[39m/\u001b[39m bias_correction1\n\u001b[1;32m---> <a href='file:///c%3A/Users/amirz/anaconda3/envs/iit/lib/site-packages/torch/optim/_functional.py?line=97'>98</a>\u001b[0m param\u001b[39m.\u001b[39;49maddcdiv_(exp_avg, denom, value\u001b[39m=\u001b[39;49m\u001b[39m-\u001b[39;49mstep_size)\n",
      "\u001b[1;31mKeyboardInterrupt\u001b[0m: "
     ]
    }
   ],
   "source": [
    "# test_model = TorchBertClassifierIIT(weights_name='bert-base-cased')\n",
    "# test_model.n_classes_ = 3\n",
    "# bert_iit = test_model.build_graph()\n",
    "LEFT = 0\n",
    "RIGHT = 1\n",
    "BOTH = 2\n",
    "dim = 768\n",
    "half_dim = dim // 2\n",
    "\n",
    "id_to_coords = {LEFT:{3: [{\"layer\":0, \"start\":0, \"end\":half_dim}]}, \\\n",
    "    RIGHT: {3: [{\"layer\":0, \"start\":half_dim, \"end\":dim}]}, \\\n",
    "    BOTH: {3: [{\"layer\":0, \"start\":0, \"end\":half_dim},{\"layer\":0, \"start\":half_dim, \"end\":dim}]}}\n",
    "test_model = TorchBertClassifierIIT(id_to_coords)\n",
    "base = ['I hate you!', 'I love how awesome you are']\n",
    "sources = [base]\n",
    "coord_ids = [0, 0]\n",
    "y = [0, 1]\n",
    "y_IIT = [0, 1]\n",
    "\n",
    "_ = test_model.fit(base, sources, y, y_IIT, coord_ids)\n",
    "\n",
    "# for k in range(len(model.layers)):\n",
    "#     # build a get request for which layer and which values we want to see\n",
    "#     get_coord = {\"layer\":k, \"start\":0, \"end\":embedding_dim*4}\n",
    "#     print(f\"\\nLayer {k}:\", model.layers[k])\n",
    "#     # prints actual hidden values (activations) of the neural network layer\n",
    "#     print(\"\\nNeural Activations:\", model.retrieve_activations(torch.tensor([]), get_coord, None))"
   ]
  },
  {
   "cell_type": "code",
   "execution_count": 1,
   "metadata": {},
   "outputs": [
    {
     "ename": "NameError",
     "evalue": "name 'test_model' is not defined",
     "output_type": "error",
     "traceback": [
      "\u001b[1;31m---------------------------------------------------------------------------\u001b[0m",
      "\u001b[1;31mNameError\u001b[0m                                 Traceback (most recent call last)",
      "\u001b[1;32mc:\\Users\\amirz\\Documents\\linguist195a\\cs224u\\hw_sentiment.ipynb Cell 39'\u001b[0m in \u001b[0;36m<cell line: 6>\u001b[1;34m()\u001b[0m\n\u001b[0;32m      <a href='vscode-notebook-cell:/c%3A/Users/amirz/Documents/linguist195a/cs224u/hw_sentiment.ipynb#ch0000090?line=2'>3</a>\u001b[0m coord_ids \u001b[39m=\u001b[39m [\u001b[39m0\u001b[39m]\n\u001b[0;32m      <a href='vscode-notebook-cell:/c%3A/Users/amirz/Documents/linguist195a/cs224u/hw_sentiment.ipynb#ch0000090?line=4'>5</a>\u001b[0m LABELS \u001b[39m=\u001b[39m [\u001b[39m'\u001b[39m\u001b[39mpositive\u001b[39m\u001b[39m'\u001b[39m, \u001b[39m'\u001b[39m\u001b[39mnegative\u001b[39m\u001b[39m'\u001b[39m]\n\u001b[1;32m----> <a href='vscode-notebook-cell:/c%3A/Users/amirz/Documents/linguist195a/cs224u/hw_sentiment.ipynb#ch0000090?line=5'>6</a>\u001b[0m _, y_ \u001b[39m=\u001b[39m test_model\u001b[39m.\u001b[39mmodel(test_model\u001b[39m.\u001b[39mprep_input(base, sources, coord_ids))\n\u001b[0;32m      <a href='vscode-notebook-cell:/c%3A/Users/amirz/Documents/linguist195a/cs224u/hw_sentiment.ipynb#ch0000090?line=6'>7</a>\u001b[0m y_ \u001b[39m=\u001b[39m np\u001b[39m.\u001b[39marray(y_\u001b[39m.\u001b[39margmax(axis\u001b[39m=\u001b[39m\u001b[39m1\u001b[39m)\u001b[39m.\u001b[39mcpu())\n\u001b[0;32m      <a href='vscode-notebook-cell:/c%3A/Users/amirz/Documents/linguist195a/cs224u/hw_sentiment.ipynb#ch0000090?line=7'>8</a>\u001b[0m [LABELS[y] \u001b[39mfor\u001b[39;00m y \u001b[39min\u001b[39;00m y_]\n",
      "\u001b[1;31mNameError\u001b[0m: name 'test_model' is not defined"
     ]
    }
   ],
   "source": [
    "base = ['love love love love']\n",
    "sources = [base]\n",
    "coord_ids = [0]\n",
    "\n",
    "LABELS = ['positive', 'negative']\n",
    "_, y_ = test_model.model(test_model.prep_input(base, sources, coord_ids))\n",
    "y_ = np.array(y_.argmax(axis=1).cpu())\n",
    "[LABELS[y] for y in y_]"
   ]
  },
  {
   "cell_type": "markdown",
   "metadata": {},
   "source": [
    "`softmax_experiment` contains a lot of information that you can use for error analysis; see [this section below](#Error-analysis) for starter code."
   ]
  },
  {
   "cell_type": "markdown",
   "metadata": {},
   "source": [
    "## RNNClassifier wrapper\n",
    "\n",
    "This section illustrates how to use `sst.experiment` with `TorchRNNClassifier`."
   ]
  },
  {
   "cell_type": "markdown",
   "metadata": {},
   "source": [
    "To featurize examples for an RNN, we can just get the words in order, letting the model take care of mapping them into an embedding space."
   ]
  },
  {
   "cell_type": "code",
   "execution_count": null,
   "metadata": {},
   "outputs": [],
   "source": [
    "def rnn_phi(text):\n",
    "    return text.split()"
   ]
  },
  {
   "cell_type": "markdown",
   "metadata": {},
   "source": [
    "The model wrapper gets the vocabulary using `sst.get_vocab`. If you want to use pretrained word representations in here, then you can have `fit_rnn_classifier` build that space too; see [this notebook section for details](sst_03_neural_networks.ipynb#Pretrained-embeddings). See also [torch_model_base.py](torch_model_base.py) for details on the many optimization parameters that `TorchRNNClassifier` accepts."
   ]
  },
  {
   "cell_type": "code",
   "execution_count": null,
   "metadata": {},
   "outputs": [],
   "source": [
    "def fit_rnn_classifier(X, y):\n",
    "    sst_glove_vocab = utils.get_vocab(X, mincount=2)\n",
    "    mod = TorchRNNClassifier(\n",
    "        sst_glove_vocab,\n",
    "        early_stopping=True)\n",
    "    mod.fit(X, y)\n",
    "    return mod"
   ]
  },
  {
   "cell_type": "code",
   "execution_count": null,
   "metadata": {},
   "outputs": [],
   "source": [
    "rnn_experiment = sst.experiment(\n",
    "    sst.train_reader(SST_HOME),\n",
    "    rnn_phi,\n",
    "    fit_rnn_classifier,\n",
    "    vectorize=False,  # For deep learning, use `vectorize=False`.\n",
    "    assess_dataframes=[sst_dev, bakeoff_dev])"
   ]
  },
  {
   "cell_type": "markdown",
   "metadata": {},
   "source": [
    "## Error analysis\n",
    "\n",
    "This section begins to build an error-analysis framework using the dicts returned by `sst.experiment`. These have the following structure:\n",
    "\n",
    "```\n",
    "'model': trained model\n",
    "'phi': the feature function used\n",
    "'train_dataset':\n",
    "   'X': feature matrix\n",
    "   'y': list of labels\n",
    "   'vectorizer': DictVectorizer,\n",
    "   'raw_examples': list of raw inputs, before featurizing   \n",
    "'assess_datasets': list of datasets, each with the same structure as the value of 'train_dataset'\n",
    "'predictions': list of lists of predictions on the assessment datasets\n",
    "'metric': `score_func.__name__`, where `score_func` is an `sst.experiment` argument\n",
    "'score': the `score_func` score on the each of the assessment dataasets\n",
    "```\n",
    "The following function just finds mistakes, and returns a `pd.DataFrame` for easy subsequent processing:"
   ]
  },
  {
   "cell_type": "code",
   "execution_count": null,
   "metadata": {},
   "outputs": [],
   "source": [
    "def find_errors(experiment):\n",
    "    \"\"\"Find mistaken predictions.\n",
    "\n",
    "    Parameters\n",
    "    ----------\n",
    "    experiment : dict\n",
    "        As returned by `sst.experiment`.\n",
    "\n",
    "    Returns\n",
    "    -------\n",
    "    pd.DataFrame\n",
    "\n",
    "    \"\"\"\n",
    "    dfs = []\n",
    "    for i, dataset in enumerate(experiment['assess_datasets']):\n",
    "        df = pd.DataFrame({\n",
    "            'raw_examples': dataset['raw_examples'],\n",
    "            'predicted': experiment['predictions'][i],\n",
    "            'gold': dataset['y']})\n",
    "        df['correct'] = df['predicted'] == df['gold']\n",
    "        df['dataset'] = i\n",
    "        dfs.append(df)\n",
    "    return pd.concat(dfs)"
   ]
  },
  {
   "cell_type": "code",
   "execution_count": null,
   "metadata": {},
   "outputs": [],
   "source": [
    "softmax_analysis = find_errors(softmax_experiment)"
   ]
  },
  {
   "cell_type": "code",
   "execution_count": null,
   "metadata": {},
   "outputs": [],
   "source": [
    "rnn_analysis = find_errors(rnn_experiment)"
   ]
  },
  {
   "cell_type": "markdown",
   "metadata": {},
   "source": [
    "Here we merge the sotmax and RNN experiments into a single DataFrame:"
   ]
  },
  {
   "cell_type": "code",
   "execution_count": null,
   "metadata": {},
   "outputs": [],
   "source": [
    "analysis = softmax_analysis.merge(\n",
    "    rnn_analysis, left_on='raw_examples', right_on='raw_examples')\n",
    "\n",
    "analysis = analysis.drop('gold_y', axis=1).rename(columns={'gold_x': 'gold'})"
   ]
  },
  {
   "cell_type": "markdown",
   "metadata": {},
   "source": [
    "The following code collects a specific subset of examples; small modifications to its structure will give you different interesting subsets:"
   ]
  },
  {
   "cell_type": "code",
   "execution_count": null,
   "metadata": {},
   "outputs": [],
   "source": [
    "# Examples where the softmax model is correct, the RNN is not,\n",
    "# and the gold label is 'positive'\n",
    "\n",
    "error_group = analysis[\n",
    "    (analysis['predicted_x'] == analysis['gold'])\n",
    "    &\n",
    "    (analysis['predicted_y'] != analysis['gold'])\n",
    "    &\n",
    "    (analysis['gold'] == 'positive')\n",
    "]"
   ]
  },
  {
   "cell_type": "code",
   "execution_count": null,
   "metadata": {},
   "outputs": [],
   "source": [
    "error_group.shape[0]"
   ]
  },
  {
   "cell_type": "code",
   "execution_count": null,
   "metadata": {},
   "outputs": [],
   "source": [
    "for ex in error_group['raw_examples'].sample(5, random_state=1):\n",
    "    print(\"=\"*70)\n",
    "    print(ex)"
   ]
  },
  {
   "cell_type": "markdown",
   "metadata": {},
   "source": [
    "## Homework questions\n",
    "\n",
    "Please embed your homework responses in this notebook, and do not delete any cells from the notebook. (You are free to add as many cells as you like as part of your responses.)"
   ]
  },
  {
   "cell_type": "markdown",
   "metadata": {},
   "source": [
    "### Token-level differences [1 point]"
   ]
  },
  {
   "cell_type": "markdown",
   "metadata": {},
   "source": [
    "We can begin to get a sense for how our two dev sets differ by considering the most frequent tokens from each. This question asks you to begin such analysis.\n",
    "\n",
    "Your task: write a function `get_token_counts` that, given a `pd.DataFrame` in the format of our datasets, tokenizes the example sentences based on whitespace and creates a count distribution over all of the tokens. The function should return a `pd.Series` sorted by frequency; if you create a count dictionary `d`, then `pd.Series(d).sort_values(ascending=False)` will give you what you need."
   ]
  },
  {
   "cell_type": "code",
   "execution_count": null,
   "metadata": {},
   "outputs": [],
   "source": [
    "def get_token_counts(df):\n",
    "    pass\n",
    "    ##### YOUR CODE HERE\n",
    "\n"
   ]
  },
  {
   "cell_type": "code",
   "execution_count": null,
   "metadata": {},
   "outputs": [],
   "source": [
    "def test_get_token_counts(func):\n",
    "    df = pd.DataFrame([\n",
    "        {'sentence': 'a a b'},\n",
    "        {'sentence': 'a b a'},\n",
    "        {'sentence': 'a a a b.'}])\n",
    "    result = func(df)\n",
    "    for token, expected in (('a', 7), ('b', 2), ('b.', 1)):\n",
    "        actual = result.loc[token]\n",
    "        assert actual == expected, \\\n",
    "            \"For token {}, expected {}; got {}\".format(\n",
    "            token, expected, actual)"
   ]
  },
  {
   "cell_type": "code",
   "execution_count": null,
   "metadata": {},
   "outputs": [],
   "source": [
    "if 'IS_GRADESCOPE_ENV' not in os.environ:\n",
    "    test_get_token_counts(get_token_counts)"
   ]
  },
  {
   "cell_type": "markdown",
   "metadata": {},
   "source": [
    "As you develop your original system, you might review these results. The two dev sets have different vocabularies and different low-level encoding details that are sure to impact model performance, especially when one considers that the train set is like `sst_dev` in all these respects. For additional discussion, see [this notebook section](sst_01_overview.ipynb#Tokenization)."
   ]
  },
  {
   "cell_type": "markdown",
   "metadata": {},
   "source": [
    "### Training on some of the bakeoff data [1 point]"
   ]
  },
  {
   "cell_type": "markdown",
   "metadata": {},
   "source": [
    "We have so far presented the bakeoff dev set as purely for evaluation. Since the train set consists entirely of SST-3 data, this makes the bakeoff split especially challenging. We might be able to reduce the challenging by adding some of the bakeoff dev set to the train set, keeping some of it for evaluation. The current question asks to begin explore the effects of such training.\n",
    "\n",
    "Your task: write a function `run_mixed_training_experiment`. The function should:\n",
    "\n",
    "1. Take as inputs (a) a model training wrapper like `fit_softmax_classifier` and (b) an integer `bakeoff_train_size` specifying the number of examples from `bakeoff_dev` that should be included in the train set.\n",
    "1. Split `bakeoff_dev` so that the first `bakeoff_train_size` examples are in the train set and the rest are used for evaluation.\n",
    "1. Use `sst.experiment` with the user-supplied model training wrapper, `unigram_phi` as defined above, and a train set that consists of SST-3 train and the train portion of `bakeoff_dev` as defined in step 2. The value of `assess_dataframes` should be a list consisting of the SST-3 dev set and the evaluation portion of `bakeoff_dev` as defined in step 2.\n",
    "1. Return the return value of `sst.experiment`.\n",
    "\n",
    "The function `test_run_mixed_training_experiment` will help you iterate to the required design."
   ]
  },
  {
   "cell_type": "code",
   "execution_count": null,
   "metadata": {},
   "outputs": [],
   "source": [
    "def run_mixed_training_experiment(wrapper_func, bakeoff_train_size):\n",
    "    pass\n",
    "    ##### YOUR CODE HERE\n",
    "\n"
   ]
  },
  {
   "cell_type": "code",
   "execution_count": null,
   "metadata": {},
   "outputs": [],
   "source": [
    "def test_run_mixed_training_experiment(func):\n",
    "    bakeoff_train_size = 1000\n",
    "    experiment = func(fit_softmax_classifier, bakeoff_train_size)\n",
    "\n",
    "    assess_size = len(experiment['assess_datasets'])\n",
    "    assert len(experiment['assess_datasets']) == 2, \\\n",
    "        (\"The evaluation should be done on two datasets: \"\n",
    "         \"SST3 and part of the bakeoff dev set. \"\n",
    "         \"You have {} datasets.\".format(assess_size))\n",
    "\n",
    "    bakeoff_test_size = bakeoff_dev.shape[0] - bakeoff_train_size\n",
    "    expected_eval_examples = bakeoff_test_size + sst_dev.shape[0]\n",
    "    eval_examples = sum(len(d['raw_examples']) for d in experiment['assess_datasets'])\n",
    "    assert expected_eval_examples == eval_examples, \\\n",
    "        \"Expected {} evaluation examples; got {}\".format(\n",
    "        expected_eval_examples, eval_examples)"
   ]
  },
  {
   "cell_type": "code",
   "execution_count": null,
   "metadata": {},
   "outputs": [],
   "source": [
    "if 'IS_GRADESCOPE_ENV' not in os.environ:\n",
    "    test_run_mixed_training_experiment(run_mixed_training_experiment)"
   ]
  },
  {
   "cell_type": "markdown",
   "metadata": {},
   "source": [
    "### A more powerful vector-averaging baseline [2 points]\n",
    "\n",
    "In [Distributed representations as features](sst_03_neural_networks.ipynb#Distributed-representations-as-features), we looked at a baseline for the ternary SST-3 problem in which each example is modeled as the mean of its GloVe representations. A `LogisticRegression` model was used for prediction. A neural network might do better with these representations, since there might be complex relationships between the input feature dimensions that a linear classifier can't learn. To address this question, we want to get set up to run the experiment with a shallow neural classifier. \n",
    "\n",
    "Your task: write and submit a model wrapper function around `TorchShallowNeuralClassifier`. This function should implement hyperparameter search according to this specification:\n",
    "\n",
    "* Set `early_stopping=True` for all experiments.\n",
    "* Using 3-fold cross-validation, exhaustively explore this set of hyperparameter combinations:\n",
    "  * The hidden dimensionality at 50, 100, and 200.\n",
    "  * The hidden activation function as `nn.Tanh()` and `nn.ReLU()`.\n",
    "* For all other parameters to `TorchShallowNeuralClassifier`, use the defaults.\n",
    "\n",
    "See [this notebook section](sst_02_hand_built_features.ipynb#Hyperparameter-search) for examples. You are not required to run a full evaluation with this function using `sst.experiment`, but we assume you will want to.\n",
    "\n",
    "We're not evaluating the quality of your model. (We've specified the protocols completely, but there will still be variation in the results.) However, the primary goal of this question is to get you thinking more about this strong baseline feature representation scheme for SST-3, so we're sort of hoping you feel compelled to try out variations on your own."
   ]
  },
  {
   "cell_type": "code",
   "execution_count": null,
   "metadata": {},
   "outputs": [],
   "source": [
    "from torch_shallow_neural_classifier import TorchShallowNeuralClassifier\n",
    "\n",
    "def fit_shallow_neural_classifier_with_hyperparameter_search(X, y):\n",
    "    pass\n",
    "    ##### YOUR CODE HERE\n"
   ]
  },
  {
   "cell_type": "markdown",
   "metadata": {},
   "source": [
    "### BERT encoding [2 points]"
   ]
  },
  {
   "cell_type": "markdown",
   "metadata": {},
   "source": [
    "We might hypothesize that encoding our examples with BERT will yield improvements over the GloVe averaging method explored in the previous question, since BERT implements a much more complex and data-driven function for this kind of combination. This question asks you to begin exploring this general hypothesis.\n",
    "\n",
    "Your task: write a function `hf_cls_phi` that uses Hugging Face functionality to encode individual examples with BERT and returns the final output representation above the [CLS] token.\n",
    "\n",
    "You are not required to evaluate this feature function, but it is easy to do so with `sst.experiment` and `vectorize=False` (since your feature function directly encodes every example as a vector). Your code should also be a natural basis for even more powerful approaches – for example, it might be even better to pool all the output states rather than using just the first output state. Another option is [fine-tuning](finetuning.ipynb)."
   ]
  },
  {
   "cell_type": "code",
   "execution_count": null,
   "metadata": {},
   "outputs": [],
   "source": [
    "from transformers import BertModel, BertTokenizer\n",
    "import vsm\n",
    "\n",
    "# Instantiate a Bert model and tokenizer based on `bert_weights_name`:\n",
    "bert_weights_name = 'bert-base-uncased'\n",
    "##### YOUR CODE HERE\n",
    "\n",
    "\n",
    "def hf_cls_phi(text):\n",
    "    # Get the ids. `vsm.hf_encode` will help; be sure to\n",
    "    # set `add_special_tokens=True`.\n",
    "    ##### YOUR CODE HERE\n",
    "\n",
    "\n",
    "    # Get the BERT representations. `vsm.hf_represent` will help:\n",
    "    ##### YOUR CODE HERE\n",
    "\n",
    "\n",
    "    # Index into `reps` to get the representation above [CLS].\n",
    "    # The shape of `reps` should be (1, n, 768), where n is the\n",
    "    # number of tokens. You need the 0th element of the 2nd dim:\n",
    "    ##### YOUR CODE HERE\n",
    "\n",
    "\n",
    "    # These conversions should ensure that you can work with the\n",
    "    # representations flexibly. Feel free to change the variable\n",
    "    # name:\n",
    "    return cls_rep.cpu().numpy()"
   ]
  },
  {
   "cell_type": "code",
   "execution_count": null,
   "metadata": {},
   "outputs": [],
   "source": [
    "def test_hf_cls_phi(func):\n",
    "    rep = func(\"Just testing!\")\n",
    "\n",
    "    expected_shape = (768,)\n",
    "    result_shape = rep.shape\n",
    "    assert rep.shape == (768,), \\\n",
    "        \"Expected shape {}; got {}\".format(\n",
    "        expected_shape, result_shape)\n",
    "\n",
    "    # String conversion to avoid precision errors:\n",
    "    expected_first_val = str(0.1709)\n",
    "    result_first_val = \"{0:.04f}\".format(rep[0])\n",
    "\n",
    "    assert expected_first_val == result_first_val, \\\n",
    "        (\"Unexpected representation values. Expected the \"\n",
    "        \"first value to be {}; got {}\".format(\n",
    "            expected_first_val, result_first_val))"
   ]
  },
  {
   "cell_type": "code",
   "execution_count": null,
   "metadata": {},
   "outputs": [],
   "source": [
    "if 'IS_GRADESCOPE_ENV' not in os.environ:\n",
    "    test_hf_cls_phi(hf_cls_phi)"
   ]
  },
  {
   "cell_type": "markdown",
   "metadata": {},
   "source": [
    "Note: encoding all of SST-3 train (no subtrees) takes about 11 minutes on my 2015 iMac, CPU only (32GB)."
   ]
  },
  {
   "cell_type": "markdown",
   "metadata": {},
   "source": [
    "### Your original system [3 points]\n",
    "\n",
    "Your task is to develop an original model for the SST-3 problem and our new bakeoff dataset. There are many options. If you spend more than a few hours on this homework problem, you should consider letting it grow into your final project! Here are some relatively manageable ideas that you might try:\n",
    "\n",
    "1. We didn't systematically evaluate the `bidirectional` option to the `TorchRNNClassifier`. Similarly, that model could be tweaked to allow multiple LSTM layers (at present there is only one), and you could try adding layers to the classifier portion of the model as well.\n",
    "\n",
    "1. We've already glimpsed the power of rich initial word representations, and later in the course we'll see that smart initialization usually leads to a performance gain in NLP, so you could perhaps achieve a winning entry with a simple model that starts in a great place.\n",
    "\n",
    "1. Our [practical introduction to contextual word representations](finetuning.ipynb) covers pretrained representations and interfaces that are likely to boost the performance of any system.\n",
    "\n",
    "We want to emphasize that this needs to be an __original__ system. It doesn't suffice to download code from the Web, retrain, and submit. You can build on others' code, but you have to do something new and meaningful with it. See the course website for additional guidance on how original systems will be evaluated.\n",
    "\n",
    "In the cell below, please provide a brief technical description of your original system, so that the teaching team can gain an understanding of what it does. This will help us to understand your code and analyze all the submissions to identify patterns and strategies.  We also ask that you report the best score your system got during development (your best average of macro-F1 scores), just to help us understand how systems performed overall.\n",
    "\n",
    "<font color='red'>Please review the descriptions in the following comment and follow the instructions.</font>"
   ]
  },
  {
   "cell_type": "code",
   "execution_count": null,
   "metadata": {},
   "outputs": [],
   "source": [
    "# PLEASE MAKE SURE TO INCLUDE THE FOLLOWING BETWEEN THE START AND STOP COMMENTS:\n",
    "#   1) Textual description of your system.\n",
    "#   2) The code for your original system.\n",
    "#   3) The score achieved by your system in place of MY_NUMBER.\n",
    "#        With no other changes to that line.\n",
    "#        You should report your score as a decimal value <=1.0\n",
    "# PLEASE MAKE SURE NOT TO DELETE OR EDIT THE START AND STOP COMMENTS\n",
    "\n",
    "# NOTE: MODULES, CODE AND DATASETS REQUIRED FOR YOUR ORIGINAL SYSTEM\n",
    "# SHOULD BE ADDED BELOW THE 'IS_GRADESCOPE_ENV' CHECK CONDITION. DOING\n",
    "# SO ABOVE THE CHECK MAY CAUSE THE AUTOGRADER TO FAIL.\n",
    "\n",
    "# START COMMENT: Enter your system description in this cell.\n",
    "# My peak score was: MY_NUMBER\n",
    "if 'IS_GRADESCOPE_ENV' not in os.environ:\n",
    "    pass\n",
    "\n",
    "# STOP COMMENT: Please do not remove this comment."
   ]
  },
  {
   "cell_type": "markdown",
   "metadata": {},
   "source": [
    "## Bakeoff [1 point]\n",
    "\n",
    "As we said above, the bakeoff evaluation data is the official SST test-set release and a new test set derived from the same sources and labeling methods as for `bakeoff_dev`.\n",
    "\n",
    "For this bakeoff, you'll evaluate your original system from the above homework problem on these test sets. Our metric will be the mean of the macro-F1 values, which weights both datasets equally despite their differing sizes.\n",
    "\n",
    "The central requirement for your system is that you have define a `predict_one` method for it that maps a text (str) directly to a label prediction – one of 'positive', 'negative', 'neutral'. If you used `sst.experiment` with `vectorize=True`, then the following function (for `softmax_experiment`) will be easy to adapt – you probably just need to change the variable `softmax_experiment` to the variable for your experiment output."
   ]
  },
  {
   "cell_type": "code",
   "execution_count": null,
   "metadata": {},
   "outputs": [],
   "source": [
    "def predict_one_softmax(text):\n",
    "    # Singleton list of feature dicts:\n",
    "    feats = [softmax_experiment['phi'](text)]\n",
    "    # Vectorize to get a feature matrix:\n",
    "    X = softmax_experiment['train_dataset']['vectorizer'].transform(feats)\n",
    "    # Standard sklearn `predict` step:\n",
    "    preds = softmax_experiment['model'].predict(X)\n",
    "    # Be sure to return the only member of the predictions,\n",
    "    # rather than the singleton list:\n",
    "    return preds[0]"
   ]
  },
  {
   "cell_type": "markdown",
   "metadata": {},
   "source": [
    "If you used an RNN like the one we demoed above, then featurization is a bit more straightforward:"
   ]
  },
  {
   "cell_type": "code",
   "execution_count": null,
   "metadata": {},
   "outputs": [],
   "source": [
    "def predict_one_rnn(text):\n",
    "    # List of tokenized examples:\n",
    "    X = [rnn_experiment['phi'](text)]\n",
    "    # Standard `predict` step on a list of lists of str:\n",
    "    preds = rnn_experiment['model'].predict(X)\n",
    "    # Be sure to return the only member of the predictions,\n",
    "    # rather than the singleton list:\n",
    "    return preds[0]"
   ]
  },
  {
   "cell_type": "markdown",
   "metadata": {},
   "source": [
    "The following function is used to create the bakeoff submission file. Its arguments are your `predict_one` function and an output filename (str)."
   ]
  },
  {
   "cell_type": "code",
   "execution_count": null,
   "metadata": {},
   "outputs": [],
   "source": [
    "def create_bakeoff_submission(\n",
    "        predict_one_func,\n",
    "        output_filename='cs224u-sentiment-bakeoff-entry.csv'):\n",
    "\n",
    "    bakeoff_test = sst.bakeoff_test_reader(SST_HOME)\n",
    "    sst_test = sst.test_reader(SST_HOME)\n",
    "    bakeoff_test['dataset'] = 'bakeoff'\n",
    "    sst_test['dataset'] = 'sst3'\n",
    "    df = pd.concat((bakeoff_test, sst_test))\n",
    "\n",
    "    df['prediction'] = df['sentence'].apply(predict_one_func)\n",
    "\n",
    "    df.to_csv(output_filename, index=None)"
   ]
  },
  {
   "cell_type": "markdown",
   "metadata": {},
   "source": [
    "Thus, for example, the following will create a bake-off entry based on `predict_one_softmax`:"
   ]
  },
  {
   "cell_type": "code",
   "execution_count": null,
   "metadata": {},
   "outputs": [],
   "source": [
    "# This check ensure that the following code only runs on the local environment only.\n",
    "# The following call will not be run on the autograder environment.\n",
    "if 'IS_GRADESCOPE_ENV' not in os.environ:\n",
    "    pass\n",
    "    create_bakeoff_submission(predict_one_softmax)"
   ]
  },
  {
   "cell_type": "markdown",
   "metadata": {},
   "source": [
    "This creates a file `cs224u-sentiment-bakeoff-entry.csv` in the current directory. That file should be uploaded as-is. Please do not change its name.\n",
    "\n",
    "Only one upload per team is permitted, and you should do no tuning of your system based on what you see in our bakeoff prediction file – you should not study that file in anyway, beyond perhaps checking that it contains what you expected it to contain. The upload function will do some additional checking to ensure that your file is well-formed.\n",
    "\n",
    "People who enter will receive the additional homework point, and people whose systems achieve the top score will receive an additional 0.5 points. We will test the top-performing systems ourselves, and only systems for which we can reproduce the reported results will win the extra 0.5 points.\n",
    "\n",
    "Late entries will be accepted, but they cannot earn the extra 0.5 points."
   ]
  },
  {
   "cell_type": "markdown",
   "metadata": {},
   "source": [
    "## Submission Instruction\n",
    "\n",
    "Review and follow the [Homework and bake-off code: Formatting guide](hw_formatting_guide.ipynb).\n",
    "Please do not change the file name as described below.\n",
    "\n",
    "Submit the following files to Gradescope:\n",
    "\n",
    "- `hw_sentiment.ipynb` (this notebook)\n",
    "- `cs224u-sentiment-bakeoff-entry.csv` (bake-off output)\n"
   ]
  }
 ],
 "metadata": {
  "kernelspec": {
   "display_name": "Python 3",
   "language": "python",
   "name": "python3"
  },
  "language_info": {
   "codemirror_mode": {
    "name": "ipython",
    "version": 3
   },
   "file_extension": ".py",
   "mimetype": "text/x-python",
   "name": "python",
   "nbconvert_exporter": "python",
   "pygments_lexer": "ipython3",
   "version": "3.9.7"
  },
  "widgets": {
   "state": {},
   "version": "1.1.2"
  }
 },
 "nbformat": 4,
 "nbformat_minor": 4
}
